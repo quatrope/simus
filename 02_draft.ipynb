{
 "cells": [
  {
   "cell_type": "markdown",
   "metadata": {},
   "source": [
    "# Scikit-Criteria: SIMUS implementations\n",
    "\n",
    "## Abstract\n",
    "\n",
    "En este documento se presenta la sintaxis y opciones de la implementacion del método SIMUS, utilizando el stack provisto por Scikit-Criteria.\n",
    "\n",
    "## Problema\n",
    "\n",
    "Se utilizara el problema enunciado en el trabajo\n",
    "\n",
    "> Munier, N., Carignano, C., & Alberto, C. UN MÉTODO DE PROGRAMACIÓN MULTIOBJETIVO. Revista de la Escuela de Perfeccionamiento en Investigación Operativa, 24(39).\n",
    "\n",
    "### Enunciado\n",
    "A fin de mostrar una aplicación del método, se utiliza un ejemplo\n",
    "48\n",
    "SECCION APLICACIONESINVESTIGACION OPERATIVA - AÑO XXIV - No 39 - PAGINAS 44 a 54 - MAYO 2016\n",
    "sobre planificación urbana, propuesto en Lliso (2014) 2 .\n",
    "\n",
    "Desde hace algunas décadas y debido a los cambios en la industria\n",
    "del transporte ferroviario y marítimo en casi todas las ciudades hay espacios\n",
    "vacíos, por lo general céntricos, los cuales eran ocupados por las estaciones\n",
    "de ferrocarril, patios de ferrocarril y muelles. Estas parcelas abandonadas son\n",
    "el blanco de los municipios para ser usadas en la construcción de parques,\n",
    "edificios de viviendas, oficinas gubernamentales, centros comerciales, etc.\n",
    "Suelen ser grandes parcelas que pueden ser adecuadas para varios usos\n",
    "diferentes al mismo tiempo, razón por la cual el gobierno municipal se\n",
    "encuentra ante un dilema ya que es deseable seleccionar la alternativa de uso\n",
    "que mejor sirva a la ciudad.\n",
    "\n",
    "#### CASO: REHABILITACIÓN DE TIERRAS\n",
    "\n",
    "Una importante ciudad portuaria se ha visto afectada por el cambio en\n",
    "la modalidad de transporte marítimo, cuando comenzó el transporte de\n",
    "contenedores a mediados del siglo 20. La ciudad se quedó con 39 hectáreas\n",
    "de muelles vacíos, así como los almacenes y una terminal ferroviaria.\n",
    "\n",
    "El municipio tiene que decidir qué hacer con esta tierra y desarrolló un\n",
    "Plan Maestro basado en tres proyectos diferentes:\n",
    "\n",
    "- Proyecto 1: Torres Corporativas - Hoteles - Marina - Pequeño Parque.\n",
    "- Proyecto 2: Torres de Viviendas - Zona Comercial en la antigua\n",
    "  estación de ferrocarril.\n",
    "- Proyecto 3: Centro de Convenciones - Gran Parque y área recreativa.\n",
    "\n",
    "Los criterios que considera para el análisis de las propuestas se\n",
    "refieren a:\n",
    "\n",
    "- Criterio 1: Generación de Trabajo\n",
    "- Criterio 2: Espacio Verde Recuperado\n",
    "- Criterio 3: Factibilidad Financiera\n",
    "- Criterio 4: Impacto Ambiental\n",
    "\n",
    "Para el criterio 2 se especifica un límite máximo, mientras que los\n",
    "restantes criterios no tienen restricción definida para el lado derecho.\n",
    "\n",
    "El Decisor considera a los cuatro criterios como objetivos, por lo que\n",
    "se deberán resolver cuatro programas lineales con tres restricciones cada\n",
    "uno.\n",
    "\n",
    "Los datos se detallan en la tabla siguiente.\n",
    "\n",
    "|               |Proyecto 1 | Proyecto 2 | Proyecto 3 | VLD | Acción    |\n",
    "| ------------- |-----------|------------|------------|-----|-----------|\n",
    "| Criterio 1    | 250       |  130       | 350        | -   | Maximizar |\n",
    "| Criterio 2    | 120       |  200       | 340        | 500 | Maximizar |\n",
    "| Criterio 3    | 20        |  40        | 15         | -   | Minimizar |\n",
    "| Criterio 4    | 800       |  1000      | 600        | -   | Maximizar |"
   ]
  },
  {
   "cell_type": "markdown",
   "metadata": {},
   "source": [
    "## El modelo\n",
    "\n",
    "```python\n",
    "from skcriteria.madm import simus\n",
    "dm = simus.SIMUS()\n",
    "```\n",
    "\n",
    "- El metodo SIMUS se configura con la llamada `simus.SIMUS`. \n",
    "- El unico parametro opcional es **solver**. Este parámetro se utiliza\n",
    "  para determinar que resolutor de programación lineal se ha de utilizar.\n",
    "- Entre Los resolutores disponibles se encuentran \n",
    "  [coin-mp](https://projects.coin-or.org/CoinMP) (este es el por defecto),\n",
    "  [cplex](https://en.wikipedia.org/wiki/CPLEX),\n",
    "  [gurobi](https://en.wikipedia.org/wiki/Gurobi) y \n",
    "  [glpk](https://en.wikipedia.org/wiki/GNU_Linear_Programming_Kit)\n",
    "- Para utilizar cplex, gurobi y glpk es necesario instalarlos y configurarlos\n",
    "  dentro de scikit-criteria (se explicara cuando se implemente)\n",
    "\n",
    "Ejemplo de creación de un modelo con los solvers gplk y cplex:\n",
    "\n",
    "```python\n",
    "# utilizando glpk\n",
    "dm = simus.SIMUS(solver=\"glpk\")\n",
    "\n",
    "# utilizando cplex\n",
    "dm = simus.SIMUS(solver=\"cplex\")\n",
    "```"
   ]
  },
  {
   "cell_type": "markdown",
   "metadata": {},
   "source": [
    "## Los Datos\n",
    "\n",
    "El metodo implementado dentro scikit-criteria recibe los datos en el mismo formato que todos los demas métodos:\n",
    "\n",
    "- Una matriz de alternativa, donde cada fila es una alaternativas y cada columna es un criterio. Internamente SIMUS transpone esta matris para su operación)\n",
    "- Una vector de criterios que indica si el criterio es maximizaro o minimizar.\n",
    "\n",
    "Opcionales:\n",
    "\n",
    "-  Vector de pesos (ignorado por SIMUS)\n",
    "-  Nombre de las alternativas\n",
    "-  Nombre de los criterios\n",
    "\n",
    "**Ejemplo del paper:**"
   ]
  },
  {
   "cell_type": "code",
   "execution_count": 9,
   "metadata": {},
   "outputs": [
    {
     "data": {
      "text/html": [
       "<table>\n",
       "<thead>\n",
       "<tr><th style=\"text-align: center;\"> ALT./CRIT. </th><th style=\"text-align: center;\"> Criterio 1 (max) </th><th style=\"text-align: center;\"> Criterio 2 (max) </th><th style=\"text-align: center;\"> Criterio 3 (min) </th><th style=\"text-align: center;\"> Criterio 4 (max) </th></tr>\n",
       "</thead>\n",
       "<tbody>\n",
       "<tr><td style=\"text-align: center;\"> Proyecto 1 </td><td style=\"text-align: center;\">       250        </td><td style=\"text-align: center;\">       120        </td><td style=\"text-align: center;\">        20        </td><td style=\"text-align: center;\">       800        </td></tr>\n",
       "<tr><td style=\"text-align: center;\"> Proyecto 2 </td><td style=\"text-align: center;\">       130        </td><td style=\"text-align: center;\">       200        </td><td style=\"text-align: center;\">        40        </td><td style=\"text-align: center;\">       1000       </td></tr>\n",
       "<tr><td style=\"text-align: center;\"> Proyecto 3 </td><td style=\"text-align: center;\">       350        </td><td style=\"text-align: center;\">       340        </td><td style=\"text-align: center;\">        15        </td><td style=\"text-align: center;\">       600        </td></tr>\n",
       "</tbody>\n",
       "</table>"
      ],
      "text/plain": [
       " ALT./CRIT.    Criterio 1 (max)    Criterio 2 (max)    Criterio 3 (min)    Criterio 4 (max)\n",
       "------------  ------------------  ------------------  ------------------  ------------------\n",
       " Proyecto 1          250                 120                  20                 800\n",
       " Proyecto 2          130                 200                  40                 1000\n",
       " Proyecto 3          350                 340                  15                 600"
      ]
     },
     "execution_count": 9,
     "metadata": {},
     "output_type": "execute_result"
    }
   ],
   "source": [
    "from skcriteria import Data\n",
    "\n",
    "data = Data(\n",
    "    mtx=[[250, 120, 20, 800],\n",
    "         [130, 200, 40, 1000],\n",
    "         [350, 340, 15, 600]],\n",
    "    criteria=[max, max, min, max],\n",
    "    anames=[\"Proyecto 1\", \"Proyecto 2\", \"Proyecto 3\"],\n",
    "    cnames=[\"Criterio 1\", \"Criterio 2\", \"Criterio 3\", \"Criterio 4\"])\n",
    "data"
   ]
  },
  {
   "cell_type": "markdown",
   "metadata": {},
   "source": [
    "### Resolviendo el problema\n",
    "\n",
    "Anteriormente habiamos creado el modelo llamado **`dm`**. **`dm`** tiene una funcón llamada solve que recibe el objeto **`data`** que creamos y opcionalmente un parametro llamado **`b`** que representa el vector del lado\n",
    "derecho y que tiene que tener la misma cantidad de valores que criterios tenga los datos.\n",
    "\n",
    "En el caso del ejemplo \n",
    "\n",
    "```python\n",
    "decision = dm.decide(data, b=[None, 500, None, None]\n",
    "decision\n",
    "```\n",
    "\n",
    "![](imgs/simus_rank.png)\n",
    "\n",
    "Todos los calculos intermedios como: vectores de subordinacion, puntajes por ambos procedimientos, los resultados de los algoritmos de programacion lineal y otros; estan\n",
    "guardados dentro de la variable de **`dec.e_`** (esta variable de llama \"e\" por extra, ya que depende el metodo a utilizar guarda diferentes cosas (en topsis guarda el vector de cercanias por ejemplo))\n",
    "\n",
    "![](imgs/simus_e_2.png)\n",
    "![](imgs/simus_e_.png)\n",
    "\n",
    "#### Por que data tiene esta forma?\n",
    "\n",
    "Por que con los mismos datos podemos alimentar y comparar diferentes metodos. Por ejemplo\n",
    "\n",
    "**TOPSIS**"
   ]
  },
  {
   "cell_type": "code",
   "execution_count": 42,
   "metadata": {},
   "outputs": [
    {
     "data": {
      "text/html": [
       "<div id='dec-57584ce4-0495-11e8-b566-d85de264446f'><p><b>TOPSIS (mnorm=vector, wnorm=sum) - Solution:</b></p><table>\n",
       "<thead>\n",
       "<tr><th style=\"text-align: center;\"> ALT./CRIT. </th><th style=\"text-align: center;\"> Criterio 1 (max) </th><th style=\"text-align: center;\"> Criterio 2 (max) </th><th style=\"text-align: center;\"> Criterio 3 (min) </th><th style=\"text-align: center;\"> Criterio 4 (max) </th><th style=\"text-align: center;\"> Rank </th></tr>\n",
       "</thead>\n",
       "<tbody>\n",
       "<tr><td style=\"text-align: center;\"> Proyecto 1 </td><td style=\"text-align: center;\">       250        </td><td style=\"text-align: center;\">       120        </td><td style=\"text-align: center;\">        20        </td><td style=\"text-align: center;\">       800        </td><td style=\"text-align: center;\">  2   </td></tr>\n",
       "<tr><td style=\"text-align: center;\"> Proyecto 2 </td><td style=\"text-align: center;\">       130        </td><td style=\"text-align: center;\">       200        </td><td style=\"text-align: center;\">        40        </td><td style=\"text-align: center;\">       1000       </td><td style=\"text-align: center;\">  3   </td></tr>\n",
       "<tr><td style=\"text-align: center;\"> Proyecto 3 </td><td style=\"text-align: center;\">       350        </td><td style=\"text-align: center;\">       340        </td><td style=\"text-align: center;\">        15        </td><td style=\"text-align: center;\">       600        </td><td style=\"text-align: center;\">  1   </td></tr>\n",
       "</tbody>\n",
       "</table></div>"
      ],
      "text/plain": [
       "TOPSIS (mnorm=vector, wnorm=sum) - Solution:\n",
       " ALT./CRIT.    Criterio 1 (max)    Criterio 2 (max)    Criterio 3 (min)    Criterio 4 (max)    Rank\n",
       "------------  ------------------  ------------------  ------------------  ------------------  ------\n",
       " Proyecto 1          250                 120                  20                 800            2\n",
       " Proyecto 2          130                 200                  40                 1000           3\n",
       " Proyecto 3          350                 340                  15                 600            1"
      ]
     },
     "execution_count": 42,
     "metadata": {},
     "output_type": "execute_result"
    }
   ],
   "source": [
    "from skcriteria.madm import closeness\n",
    "closeness.TOPSIS().decide(data)"
   ]
  },
  {
   "cell_type": "markdown",
   "metadata": {},
   "source": [
    "**ELECTRE 1**"
   ]
  },
  {
   "cell_type": "code",
   "execution_count": 43,
   "metadata": {},
   "outputs": [
    {
     "data": {
      "text/html": [
       "<div id='dec-7309e06a-0495-11e8-b566-d85de264446f'><p><b>ELECTRE1 (mnorm=sum, p=0.65, q=0.35, wnorm=sum) - Solution:</b></p><table>\n",
       "<thead>\n",
       "<tr><th style=\"text-align: center;\"> ALT./CRIT. </th><th style=\"text-align: center;\"> Criterio 1 (max) </th><th style=\"text-align: center;\"> Criterio 2 (max) </th><th style=\"text-align: center;\"> Criterio 3 (min) </th><th style=\"text-align: center;\"> Criterio 4 (max) </th><th style=\"text-align: center;\"> Kernel </th></tr>\n",
       "</thead>\n",
       "<tbody>\n",
       "<tr><td style=\"text-align: center;\"> Proyecto 1 </td><td style=\"text-align: center;\">       250        </td><td style=\"text-align: center;\">       120        </td><td style=\"text-align: center;\">        20        </td><td style=\"text-align: center;\">       800        </td><td style=\"text-align: center;\">        </td></tr>\n",
       "<tr><td style=\"text-align: center;\"> Proyecto 2 </td><td style=\"text-align: center;\">       130        </td><td style=\"text-align: center;\">       200        </td><td style=\"text-align: center;\">        40        </td><td style=\"text-align: center;\">       1000       </td><td style=\"text-align: center;\">   @    </td></tr>\n",
       "<tr><td style=\"text-align: center;\"> Proyecto 3 </td><td style=\"text-align: center;\">       350        </td><td style=\"text-align: center;\">       340        </td><td style=\"text-align: center;\">        15        </td><td style=\"text-align: center;\">       600        </td><td style=\"text-align: center;\">   @    </td></tr>\n",
       "</tbody>\n",
       "</table></div>"
      ],
      "text/plain": [
       "ELECTRE1 (mnorm=sum, p=0.65, q=0.35, wnorm=sum) - Solution:\n",
       " ALT./CRIT.    Criterio 1 (max)    Criterio 2 (max)    Criterio 3 (min)    Criterio 4 (max)    Kernel\n",
       "------------  ------------------  ------------------  ------------------  ------------------  --------\n",
       " Proyecto 1          250                 120                  20                 800\n",
       " Proyecto 2          130                 200                  40                 1000            @\n",
       " Proyecto 3          350                 340                  15                 600             @"
      ]
     },
     "execution_count": 43,
     "metadata": {},
     "output_type": "execute_result"
    }
   ],
   "source": [
    "from skcriteria.madm import electre\n",
    "electre.ELECTRE1().decide(data)"
   ]
  },
  {
   "cell_type": "markdown",
   "metadata": {},
   "source": [
    "**Suma Ponderada**"
   ]
  },
  {
   "cell_type": "code",
   "execution_count": 45,
   "metadata": {},
   "outputs": [
    {
     "data": {
      "text/html": [
       "<div id='dec-ba410ce2-0495-11e8-b566-d85de264446f'><p><b>WeightedSum (mnorm=sum, wnorm=sum) - Solution:</b></p><table>\n",
       "<thead>\n",
       "<tr><th style=\"text-align: center;\"> ALT./CRIT. </th><th style=\"text-align: center;\"> Criterio 1 (max) </th><th style=\"text-align: center;\"> Criterio 2 (max) </th><th style=\"text-align: center;\"> Criterio 3 (min) </th><th style=\"text-align: center;\"> Criterio 4 (max) </th><th style=\"text-align: center;\"> Rank </th></tr>\n",
       "</thead>\n",
       "<tbody>\n",
       "<tr><td style=\"text-align: center;\"> Proyecto 1 </td><td style=\"text-align: center;\">       250        </td><td style=\"text-align: center;\">       120        </td><td style=\"text-align: center;\">        20        </td><td style=\"text-align: center;\">       800        </td><td style=\"text-align: center;\">  2   </td></tr>\n",
       "<tr><td style=\"text-align: center;\"> Proyecto 2 </td><td style=\"text-align: center;\">       130        </td><td style=\"text-align: center;\">       200        </td><td style=\"text-align: center;\">        40        </td><td style=\"text-align: center;\">       1000       </td><td style=\"text-align: center;\">  3   </td></tr>\n",
       "<tr><td style=\"text-align: center;\"> Proyecto 3 </td><td style=\"text-align: center;\">       350        </td><td style=\"text-align: center;\">       340        </td><td style=\"text-align: center;\">        15        </td><td style=\"text-align: center;\">       600        </td><td style=\"text-align: center;\">  1   </td></tr>\n",
       "</tbody>\n",
       "</table></div>"
      ],
      "text/plain": [
       "WeightedSum (mnorm=sum, wnorm=sum) - Solution:\n",
       " ALT./CRIT.    Criterio 1 (max)    Criterio 2 (max)    Criterio 3 (min)    Criterio 4 (max)    Rank\n",
       "------------  ------------------  ------------------  ------------------  ------------------  ------\n",
       " Proyecto 1          250                 120                  20                 800            2\n",
       " Proyecto 2          130                 200                  40                 1000           3\n",
       " Proyecto 3          350                 340                  15                 600            1"
      ]
     },
     "execution_count": 45,
     "metadata": {},
     "output_type": "execute_result"
    }
   ],
   "source": [
    "from skcriteria.madm import simple\n",
    "simple.WeightedSum().decide(data)"
   ]
  },
  {
   "cell_type": "markdown",
   "metadata": {},
   "source": [
    "Ademas que el objeto data tiene capacidades graficas como:"
   ]
  },
  {
   "cell_type": "code",
   "execution_count": 49,
   "metadata": {},
   "outputs": [
    {
     "data": {
      "image/png": "[encoded data removed]",
      "text/plain": [
       "<matplotlib.figure.Figure at 0x7f3fde9cfcc0>"
      ]
     },
     "metadata": {},
     "output_type": "display_data"
    }
   ],
   "source": [
    "data.plot();"
   ]
  },
  {
   "cell_type": "code",
   "execution_count": 48,
   "metadata": {},
   "outputs": [
    {
     "data": {
      "image/png": "[encoded data removed]",
      "text/plain": [
       "<matplotlib.figure.Figure at 0x7f3fe0cbdbe0>"
      ]
     },
     "metadata": {},
     "output_type": "display_data"
    }
   ],
   "source": [
    "data.plot.box();"
   ]
  }
 ],
 "metadata": {
  "kernelspec": {
   "display_name": "Python 3",
   "language": "python",
   "name": "python3"
  },
  "language_info": {
   "codemirror_mode": {
    "name": "ipython",
    "version": 3
   },
   "file_extension": ".py",
   "mimetype": "text/x-python",
   "name": "python",
   "nbconvert_exporter": "python",
   "pygments_lexer": "ipython3",
   "version": "3.6.3"
  }
 },
 "nbformat": 4,
 "nbformat_minor": 2
}
