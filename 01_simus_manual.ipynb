{
 "cells": [
  {
   "cell_type": "markdown",
   "metadata": {},
   "source": [
    "# Probando PuLP\n",
    "## Reproducción del Paper: SIMUS UN MÉTODO DE PROGRAMACIÓN MULTIOBJETIVO\n",
    "\n",
    "> Munier, N., Carignano, C., & Alberto, C. UN MÉTODO DE PROGRAMACIÓN MULTIOBJETIVO. Revista de la Escuela de Perfeccionamiento en Investigación Operativa, 24(39)."
   ]
  },
  {
   "cell_type": "markdown",
   "metadata": {},
   "source": [
    "### Enunciado\n",
    "A fin de mostrar una aplicación del método, se utiliza un ejemplo\n",
    "48\n",
    "SECCION APLICACIONESINVESTIGACION OPERATIVA - AÑO XXIV - No 39 - PAGINAS 44 a 54 - MAYO 2016\n",
    "sobre planificación urbana, propuesto en Lliso (2014) 2 .\n",
    "\n",
    "Desde hace algunas décadas y debido a los cambios en la industria\n",
    "del transporte ferroviario y marítimo en casi todas las ciudades hay espacios\n",
    "vacíos, por lo general céntricos, los cuales eran ocupados por las estaciones\n",
    "de ferrocarril, patios de ferrocarril y muelles. Estas parcelas abandonadas son\n",
    "el blanco de los municipios para ser usadas en la construcción de parques,\n",
    "edificios de viviendas, oficinas gubernamentales, centros comerciales, etc.\n",
    "Suelen ser grandes parcelas que pueden ser adecuadas para varios usos\n",
    "diferentes al mismo tiempo, razón por la cual el gobierno municipal se\n",
    "encuentra ante un dilema ya que es deseable seleccionar la alternativa de uso\n",
    "que mejor sirva a la ciudad.\n",
    "\n",
    "#### CASO: REHABILITACIÓN DE TIERRAS\n",
    "\n",
    "Una importante ciudad portuaria se ha visto afectada por el cambio en\n",
    "la modalidad de transporte marítimo, cuando comenzó el transporte de\n",
    "contenedores a mediados del siglo 20. La ciudad se quedó con 39 hectáreas\n",
    "de muelles vacíos, así como los almacenes y una terminal ferroviaria.\n",
    "\n",
    "El municipio tiene que decidir qué hacer con esta tierra y desarrolló un\n",
    "Plan Maestro basado en tres proyectos diferentes:\n",
    "\n",
    "- Proyecto 1: Torres Corporativas - Hoteles - Marina - Pequeño Parque.\n",
    "- Proyecto 2: Torres de Viviendas - Zona Comercial en la antigua\n",
    "  estación de ferrocarril.\n",
    "- Proyecto 3: Centro de Convenciones - Gran Parque y área recreativa.\n",
    "\n",
    "Los criterios que considera para el análisis de las propuestas se\n",
    "refieren a:\n",
    "\n",
    "- Criterio 1: Generación de Trabajo\n",
    "- Criterio 2: Espacio Verde Recuperado\n",
    "- Criterio 3: Factibilidad Financiera\n",
    "- Criterio 4: Impacto Ambiental\n",
    "\n",
    "Para el criterio 2 se especifica un límite máximo, mientras que los\n",
    "restantes criterios no tienen restricción definida para el lado derecho.\n",
    "\n",
    "El Decisor considera a los cuatro criterios como objetivos, por lo que\n",
    "se deberán resolver cuatro programas lineales con tres restricciones cada\n",
    "uno.\n",
    "\n",
    "Los datos se detallan en la tabla siguiente."
   ]
  },
  {
   "cell_type": "markdown",
   "metadata": {},
   "source": [
    "|               |Proyecto 1 | Proyecto 2 | Proyecto 3 | VLD | Acción    |\n",
    "| ------------- |-----------|------------|------------|-----|-----------|\n",
    "| Criterio 1    | 250       |  130       | 350        | -   | Maximizar |\n",
    "| Criterio 2    | 120       |  200       | 340        | 500 | Maximizar |\n",
    "| Criterio 3    | 20        |  40        | 15         | -   | Minimizar |\n",
    "| Criterio 4    | 800       |  1000      | 600        | -   | Maximizar |"
   ]
  },
  {
   "cell_type": "code",
   "execution_count": 1,
   "metadata": {},
   "outputs": [],
   "source": [
    "import pulp\n",
    "\n",
    "import numpy as np\n",
    "\n",
    "from skcriteria import norm"
   ]
  },
  {
   "cell_type": "markdown",
   "metadata": {},
   "source": [
    "#### Stage 1"
   ]
  },
  {
   "cell_type": "code",
   "execution_count": 2,
   "metadata": {},
   "outputs": [
    {
     "data": {
      "text/plain": [
       "Stage 1:\n",
       "MAXIMIZE\n",
       "250*x1 + 130*x2 + 350*x3 + 0\n",
       "SUBJECT TO\n",
       "_C1: 120 x1 + 200 x2 + 340 x3 <= 500\n",
       "\n",
       "_C2: 20 x1 + 40 x2 + 15 x3 >= 15\n",
       "\n",
       "_C3: 800 x1 + 1000 x2 + 600 x3 <= 1000\n",
       "\n",
       "VARIABLES\n",
       "x1 Continuous\n",
       "x2 Continuous\n",
       "x3 Continuous"
      ]
     },
     "execution_count": 2,
     "metadata": {},
     "output_type": "execute_result"
    }
   ],
   "source": [
    "stage1 = pulp.LpProblem(\"Stage 1\", pulp.LpMaximize)\n",
    "\n",
    "# variables\n",
    "x1 = pulp.LpVariable('x1', lowBound=0, cat='Continuous')\n",
    "x2 = pulp.LpVariable('x2', lowBound=0, cat='Continuous')\n",
    "x3 = pulp.LpVariable('x3', lowBound=0, cat='Continuous')\n",
    "\n",
    "# Objective\n",
    "stage1 += 250 * x1 + 130 * x2 + 350 * x3, \"Z\"\n",
    "\n",
    "# Constraints\n",
    "stage1 += 120 * x1 + 200 * x2 + 340 * x3 <= 500\n",
    "stage1 += 20 * x1 + 40 * x2 + 15 * x3 >= 15\n",
    "stage1 += 800 * x1 + 1000 * x2 + 600 * x3 <= 1000\n",
    "\n",
    "stage1"
   ]
  },
  {
   "cell_type": "markdown",
   "metadata": {},
   "source": [
    "#### Stage 2"
   ]
  },
  {
   "cell_type": "code",
   "execution_count": 3,
   "metadata": {},
   "outputs": [
    {
     "data": {
      "text/plain": [
       "Stage 2:\n",
       "MAXIMIZE\n",
       "120*x1 + 200*x2 + 340*x3 + 0\n",
       "SUBJECT TO\n",
       "_C1: 250 x1 + 130 x2 + 350 x3 <= 350\n",
       "\n",
       "_C2: 20 x1 + 40 x2 + 15 x3 >= 15\n",
       "\n",
       "_C3: 800 x1 + 1000 x2 + 600 x3 <= 1000\n",
       "\n",
       "VARIABLES\n",
       "x1 Continuous\n",
       "x2 Continuous\n",
       "x3 Continuous"
      ]
     },
     "execution_count": 3,
     "metadata": {},
     "output_type": "execute_result"
    }
   ],
   "source": [
    "stage2 = pulp.LpProblem(\"Stage 2\", pulp.LpMaximize)\n",
    "\n",
    "# variables\n",
    "x1 = pulp.LpVariable('x1', lowBound=0, cat='Continuous')\n",
    "x2 = pulp.LpVariable('x2', lowBound=0, cat='Continuous')\n",
    "x3 = pulp.LpVariable('x3', lowBound=0, cat='Continuous')\n",
    "\n",
    "# Objective\n",
    "stage2 += 120 * x1 + 200 * x2 + 340 * x3, \"Z\"\n",
    "\n",
    "# Constraints\n",
    "stage2 += 250 * x1 + 130 * x2 + 350 * x3 <= 350\n",
    "stage2 += 20 * x1 + 40 * x2 + 15 * x3 >= 15\n",
    "stage2 += 800 * x1 + 1000 * x2 + 600 * x3 <= 1000\n",
    "\n",
    "stage2"
   ]
  },
  {
   "cell_type": "markdown",
   "metadata": {},
   "source": [
    "#### Stage 3"
   ]
  },
  {
   "cell_type": "code",
   "execution_count": 4,
   "metadata": {},
   "outputs": [
    {
     "data": {
      "text/plain": [
       "Stage 3:\n",
       "MINIMIZE\n",
       "20*x1 + 40*x2 + 15*x3 + 0\n",
       "SUBJECT TO\n",
       "_C1: 250 x1 + 130 x2 + 350 x3 <= 350\n",
       "\n",
       "_C2: 120 x1 + 200 x2 + 340 x3 <= 500\n",
       "\n",
       "_C3: 800 x1 + 1000 x2 + 600 x3 <= 1000\n",
       "\n",
       "VARIABLES\n",
       "x1 Continuous\n",
       "x2 Continuous\n",
       "x3 Continuous"
      ]
     },
     "execution_count": 4,
     "metadata": {},
     "output_type": "execute_result"
    }
   ],
   "source": [
    "stage3 = pulp.LpProblem(\"Stage 3\", pulp.LpMinimize)\n",
    "\n",
    "# variables\n",
    "x1 = pulp.LpVariable('x1', lowBound=0, cat='Continuous')\n",
    "x2 = pulp.LpVariable('x2', lowBound=0, cat='Continuous')\n",
    "x3 = pulp.LpVariable('x3', lowBound=0, cat='Continuous')\n",
    "\n",
    "# Objective\n",
    "stage3 += 20 * x1 + 40 * x2 + 15 * x3, \"Z\"\n",
    "\n",
    "# Constraints\n",
    "stage3 += 250 * x1 + 130 * x2 + 350 * x3 <= 350\n",
    "stage3 += 120 * x1 + 200 * x2 + 340 * x3 <= 500\n",
    "stage3 += 800 * x1 + 1000 * x2 + 600 * x3 <= 1000\n",
    "\n",
    "stage3"
   ]
  },
  {
   "cell_type": "markdown",
   "metadata": {},
   "source": [
    "#### Stage 4"
   ]
  },
  {
   "cell_type": "code",
   "execution_count": 5,
   "metadata": {},
   "outputs": [
    {
     "data": {
      "text/plain": [
       "Stage 4:\n",
       "MAXIMIZE\n",
       "800*x1 + 1000*x2 + 600*x3 + 0\n",
       "SUBJECT TO\n",
       "_C1: 250 x1 + 130 x2 + 350 x3 <= 350\n",
       "\n",
       "_C2: 120 x1 + 200 x2 + 340 x3 <= 500\n",
       "\n",
       "_C3: 20 x1 + 40 x2 + 15 x3 >= 15\n",
       "\n",
       "VARIABLES\n",
       "x1 Continuous\n",
       "x2 Continuous\n",
       "x3 Continuous"
      ]
     },
     "execution_count": 5,
     "metadata": {},
     "output_type": "execute_result"
    }
   ],
   "source": [
    "stage4 = pulp.LpProblem(\"Stage 4\", pulp.LpMaximize)\n",
    "\n",
    "# variables\n",
    "x1 = pulp.LpVariable('x1', lowBound=0, cat='Continuous')\n",
    "x2 = pulp.LpVariable('x2', lowBound=0, cat='Continuous')\n",
    "x3 = pulp.LpVariable('x3', lowBound=0, cat='Continuous')\n",
    "\n",
    "# Objective\n",
    "stage4 += 800 * x1 + 1000 * x2 + 600 * x3, \"Z\"\n",
    "\n",
    "# Constraints\n",
    "stage4 += 250 * x1 + 130 * x2 + 350 * x3 <= 350\n",
    "stage4 += 120 * x1 + 200 * x2 + 340 * x3 <= 500\n",
    "stage4 += 20 * x1 + 40 * x2 + 15 * x3 >= 15\n",
    "\n",
    "stage4"
   ]
  },
  {
   "cell_type": "markdown",
   "metadata": {},
   "source": [
    "### Solutions"
   ]
  },
  {
   "cell_type": "code",
   "execution_count": 6,
   "metadata": {},
   "outputs": [],
   "source": [
    "stages = [stage1, stage2, stage3, stage4]"
   ]
  },
  {
   "cell_type": "code",
   "execution_count": 7,
   "metadata": {},
   "outputs": [
    {
     "name": "stdout",
     "output_type": "stream",
     "text": [
      "Stage 1: Optimal\n",
      "Stage 2: Optimal\n",
      "Stage 3: Optimal\n",
      "Stage 4: Optimal\n"
     ]
    }
   ],
   "source": [
    "for stage in stages:\n",
    "    stage.solve()\n",
    "    status = pulp.LpStatus[stage.status]\n",
    "    print(f\"{stage.name}: {status}\")"
   ]
  },
  {
   "cell_type": "code",
   "execution_count": 8,
   "metadata": {},
   "outputs": [],
   "source": [
    "results = []\n",
    "for stage in stages:\n",
    "    row = [v.varValue for v in stage.variables()]\n",
    "    results.append(row)\n",
    "\n",
    "\n",
    "results = np.asarray(results)"
   ]
  },
  {
   "cell_type": "markdown",
   "metadata": {},
   "source": [
    "#### Normalization"
   ]
  },
  {
   "cell_type": "code",
   "execution_count": 9,
   "metadata": {},
   "outputs": [
    {
     "name": "stderr",
     "output_type": "stream",
     "text": [
      "/home/juan/proyectos/skcriteria/src/skcriteria/norm.py:173: RuntimeWarning: invalid value encountered in true_divide\n",
      "  return arr / sumval\n"
     ]
    },
    {
     "data": {
      "text/plain": [
       "array([[0.125     , 0.        , 0.875     ],\n",
       "       [0.        , 0.38888889, 0.61111111],\n",
       "       [0.        , 0.        , 0.        ],\n",
       "       [0.05681818, 0.94318182, 0.        ]])"
      ]
     },
     "execution_count": 9,
     "metadata": {},
     "output_type": "execute_result"
    }
   ],
   "source": [
    "renorm = norm.sum(results, axis=1)\n",
    "renorm[np.isnan(renorm)] = 0\n",
    "renorm"
   ]
  },
  {
   "cell_type": "markdown",
   "metadata": {},
   "source": [
    "#### 1er Procedimiento de Ordenamiento\n",
    "##### Valor Suma del Proyecto"
   ]
  },
  {
   "cell_type": "code",
   "execution_count": 10,
   "metadata": {},
   "outputs": [
    {
     "data": {
      "text/plain": [
       "array([0.18181818, 1.3320707 , 1.48611111])"
      ]
     },
     "execution_count": 10,
     "metadata": {},
     "output_type": "execute_result"
    }
   ],
   "source": [
    "sp = np.sum(renorm, axis=0)\n",
    "sp"
   ]
  },
  {
   "cell_type": "markdown",
   "metadata": {},
   "source": [
    "##### Cálculo del número de veces que $v_{ij} > 0$ ($q$)"
   ]
  },
  {
   "cell_type": "code",
   "execution_count": 11,
   "metadata": {},
   "outputs": [
    {
     "data": {
      "text/plain": [
       "array([2, 2, 2])"
      ]
     },
     "execution_count": 11,
     "metadata": {},
     "output_type": "execute_result"
    }
   ],
   "source": [
    "q = np.sum(renorm > 0, axis=0)\n",
    "q"
   ]
  },
  {
   "cell_type": "markdown",
   "metadata": {},
   "source": [
    "##### Cálculo Factor de participación ( $ fp = \\frac{q}{len(stages)}$ )"
   ]
  },
  {
   "cell_type": "code",
   "execution_count": 12,
   "metadata": {},
   "outputs": [
    {
     "data": {
      "text/plain": [
       "array([0.5, 0.5, 0.5])"
      ]
     },
     "execution_count": 12,
     "metadata": {},
     "output_type": "execute_result"
    }
   ],
   "source": [
    "fp = q / len(stages)\n",
    "fp"
   ]
  },
  {
   "cell_type": "markdown",
   "metadata": {},
   "source": [
    "##### Ranking 1er. Procedimiento"
   ]
  },
  {
   "cell_type": "code",
   "execution_count": 13,
   "metadata": {},
   "outputs": [
    {
     "name": "stdout",
     "output_type": "stream",
     "text": [
      "#1: Proyecto 3 - Puntaje: 0.7430555561851853\n",
      "#2: Proyecto 2 - Puntaje: 0.6660353524170876\n",
      "#3: Proyecto 1 - Puntaje: 0.09090909139772729\n"
     ]
    }
   ],
   "source": [
    "vp = sp * fp\n",
    "for idx, prj_idx in enumerate(np.argsort(-vp)):\n",
    "    points = vp[prj_idx]\n",
    "    print(f\"#{idx+1}: Proyecto {prj_idx + 1} - Puntaje: {points}\")"
   ]
  },
  {
   "cell_type": "markdown",
   "metadata": {},
   "source": [
    "#### 2do Procedimiento de Ordenamiento\n",
    "##### Matriz de Proyectos dominantes según cada criterio"
   ]
  },
  {
   "cell_type": "code",
   "execution_count": 14,
   "metadata": {},
   "outputs": [
    {
     "name": "stdout",
     "output_type": "stream",
     "text": [
      "Matriz de Proyectos dominantes según el criterio 1\n",
      "[[0.    0.125 0.   ]\n",
      " [0.    0.    0.   ]\n",
      " [0.75  0.875 0.   ]]\n",
      "------------------------------\n",
      "Matriz de Proyectos dominantes según el criterio 2\n",
      "[[0.         0.         0.        ]\n",
      " [0.38888889 0.         0.        ]\n",
      " [0.61111111 0.22222222 0.        ]]\n",
      "------------------------------\n",
      "Matriz de Proyectos dominantes según el criterio 3\n",
      "[[0. 0. 0.]\n",
      " [0. 0. 0.]\n",
      " [0. 0. 0.]]\n",
      "------------------------------\n",
      "Matriz de Proyectos dominantes según el criterio 4\n",
      "[[0.         0.         0.05681818]\n",
      " [0.88636363 0.         0.94318182]\n",
      " [0.         0.         0.        ]]\n",
      "------------------------------\n"
     ]
    }
   ],
   "source": [
    "doms = None\n",
    "for crit_idx, crit in enumerate(renorm):\n",
    "    crit_B = np.tile(crit, (3, 1))\n",
    "    crit_A = crit_B.T\n",
    "    dom = crit_A - crit_B\n",
    "    dom[dom < 0] = 0\n",
    "    print(f\"Matriz de Proyectos dominantes según el criterio {crit_idx+1}\")\n",
    "    print(dom)\n",
    "    print(\"-\" * 30)\n",
    "    doms = dom if doms is None else doms + dom"
   ]
  },
  {
   "cell_type": "code",
   "execution_count": 15,
   "metadata": {},
   "outputs": [
    {
     "name": "stdout",
     "output_type": "stream",
     "text": [
      "Matriz de proyectos dominantes\n"
     ]
    },
    {
     "data": {
      "text/plain": [
       "array([[0.        , 0.125     , 0.05681818],\n",
       "       [1.27525252, 0.        , 0.94318182],\n",
       "       [1.36111111, 1.09722222, 0.        ]])"
      ]
     },
     "execution_count": 15,
     "metadata": {},
     "output_type": "execute_result"
    }
   ],
   "source": [
    "print(\"Matriz de proyectos dominantes\")\n",
    "doms"
   ]
  },
  {
   "cell_type": "code",
   "execution_count": 16,
   "metadata": {},
   "outputs": [
    {
     "name": "stdout",
     "output_type": "stream",
     "text": [
      "Dominación: [0.18181818 2.21843434 2.45833334]\n"
     ]
    }
   ],
   "source": [
    "tita_j_p = np.sum(doms, axis=1)\n",
    "print(\"Dominación:\", tita_j_p)"
   ]
  },
  {
   "cell_type": "code",
   "execution_count": 17,
   "metadata": {},
   "outputs": [
    {
     "name": "stdout",
     "output_type": "stream",
     "text": [
      "Subordinación: [2.63636363 1.22222222 1.        ]\n"
     ]
    }
   ],
   "source": [
    "tita_j_d = np.sum(doms, axis=0)\n",
    "print(\"Subordinación:\", tita_j_d)"
   ]
  },
  {
   "cell_type": "code",
   "execution_count": 18,
   "metadata": {},
   "outputs": [
    {
     "name": "stdout",
     "output_type": "stream",
     "text": [
      "Puntaje 2do. Ordenamieno: [-2.45454545  0.99621211  1.45833334]\n"
     ]
    }
   ],
   "source": [
    "puntaje_2 = tita_j_p - tita_j_d\n",
    "print(\"Puntaje 2do. Ordenamieno:\", puntaje_2)"
   ]
  },
  {
   "cell_type": "markdown",
   "metadata": {},
   "source": [
    "##### Ranking 2do. Procedimiento"
   ]
  },
  {
   "cell_type": "code",
   "execution_count": 19,
   "metadata": {},
   "outputs": [
    {
     "name": "stdout",
     "output_type": "stream",
     "text": [
      "#1: Proyecto 3 - Puntaje: 1.4583333371111111\n",
      "#2: Proyecto 2 - Puntaje: 0.9962121145025249\n",
      "#3: Proyecto 1 - Puntaje: -2.4545454516136362\n"
     ]
    }
   ],
   "source": [
    "for idx, prj_idx in enumerate(np.argsort(-puntaje_2)):\n",
    "    points = puntaje_2[prj_idx]\n",
    "    print(f\"#{idx+1}: Proyecto {prj_idx + 1} - Puntaje: {points}\")"
   ]
  },
  {
   "cell_type": "code",
   "execution_count": null,
   "metadata": {},
   "outputs": [],
   "source": []
  }
 ],
 "metadata": {
  "kernelspec": {
   "display_name": "Python 3",
   "language": "python",
   "name": "python3"
  },
  "language_info": {
   "codemirror_mode": {
    "name": "ipython",
    "version": 3
   },
   "file_extension": ".py",
   "mimetype": "text/x-python",
   "name": "python",
   "nbconvert_exporter": "python",
   "pygments_lexer": "ipython3",
   "version": "3.6.3"
  }
 },
 "nbformat": 4,
 "nbformat_minor": 2
}
